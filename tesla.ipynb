{
 "cells": [
  {
   "cell_type": "code",
   "execution_count": null,
   "metadata": {},
   "outputs": [],
   "source": [
    "import pandas as pd\n",
    "url = \"https://raw.githubusercontent.com/GWC-DCMB/CapstoneProject/master/datasets/\"\n",
    "filepath = \"tesla/Tesla_Deaths.csv\"\n",
    "df = pd.read_csv(url + filepath)\n",
    "df.head()"
   ]
  }
 ],
 "metadata": {
  "language_info": {
   "name": "python"
  }
 },
 "nbformat": 4,
 "nbformat_minor": 2
}
